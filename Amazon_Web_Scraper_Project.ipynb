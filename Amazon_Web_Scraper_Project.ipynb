{
 "cells": [
  {
   "cell_type": "code",
   "execution_count": null,
   "id": "aaa63334",
   "metadata": {},
   "outputs": [],
   "source": [
    "#Import Libraries\n",
    "\n",
    "from bs4 import BeautifulSoup\n",
    "import requests\n",
    "import time\n",
    "import datetime\n",
    "\n",
    "#smtplib help send email to yourself\n",
    "import smtplib"
   ]
  },
  {
   "cell_type": "code",
   "execution_count": null,
   "id": "af679688",
   "metadata": {},
   "outputs": [],
   "source": [
    "#Connect to website\n",
    "\n",
    "URL = 'https://www.amazon.com/dp/B0BW1KP2NF?ref_=Oct_DLandingS_D_79b5a9dd_NA&th=1'\n",
    "headers = {\"user-agent\": \"Mozilla/5.0 (Windows NT 10.0; Win64; x64) AppleWebKit/537.36 (KHTML, like Gecko) Chrome/124.0.0.0 Safari/537.36\", \"Accept-Encoding\":\"gzip, deflate\", \"Accept\":\"text/html,application/xhtml+xml,application/xml;q=0.9,*/*;q=0.8\", \"DNT\":\"1\",\"Connection\":\"close\", \"Upgrade-Insecure-Requests\":\"1\"}\n",
    "page = requests.get(URL, headers=headers)\n",
    "page.raise_for_status()\n",
    "data = page.text\n",
    "#Pulling content from the URL page\n",
    "soup1 = BeautifulSoup(page.content, \"html.parser\") #lxml, html.parser, html5lib\n",
    "soup2 = BeautifulSoup(soup1.prettify(), \"html.parser\")\n",
    "#print(soup2)\n",
    "\n",
    "#Specify the specific item you want to extract from that entire webpage\n",
    "#Press F12 + use top left tool (select an element in the page to inspect) and point the element\n",
    "#Select the inspected element and take note of the id\n",
    "title = soup2.find(id='productTitle').getText()\n",
    "store = soup2.find(id='bylineInfo').getText()\n",
    "price = soup2.find(id='corePriceDisplay_desktop_feature_div').getText()\n",
    "\n",
    "print(title)\n",
    "print(store)\n",
    "print(price)"
   ]
  },
  {
   "cell_type": "code",
   "execution_count": null,
   "id": "60ee611b",
   "metadata": {},
   "outputs": [],
   "source": [
    "#Timestamp\n",
    "import datetime\n",
    "title = title.strip()\n",
    "store = store.strip()\n",
    "price = price.strip()[:7]\n",
    "today = datetime.date.today()\n",
    "\n",
    "print(title)\n",
    "print(store)\n",
    "print(price)\n",
    "print(today)"
   ]
  },
  {
   "cell_type": "code",
   "execution_count": null,
   "id": "ca06739d",
   "metadata": {},
   "outputs": [],
   "source": [
    "#Create and insert data into csv and automate the data by pulling the reqeust\n",
    "#Automation will happen over time in the background\n",
    "import csv\n",
    "headers = ['Title', 'Store', 'Price', 'Date']\n",
    "data=[title, store, price, today]\n",
    "\n",
    "with open('AmazonWebScraperDataset.csv', 'w', newline = '', encoding = 'UTF8') as f:\n",
    "    writer = csv.writer(f)\n",
    "    writer.writerow(headers)\n",
    "    writer.writerow(data)"
   ]
  },
  {
   "cell_type": "code",
   "execution_count": null,
   "id": "75fe9507",
   "metadata": {},
   "outputs": [],
   "source": [
    "import pandas as pd\n",
    "df = pd.read_csv(r'C:\\Users\\Jey\\Projects\\PythonProject\\AmazonWebScraperDataset.csv')\n",
    "print(df)"
   ]
  },
  {
   "cell_type": "code",
   "execution_count": null,
   "id": "11b8b215",
   "metadata": {},
   "outputs": [],
   "source": [
    "#Appending data to the csv, so don't need to use back the header\n",
    "with open('AmazonWebScraperDataset.csv', 'a+', newline='', encoding='UTF8') as f:\n",
    "    writer = csv.writer(f)\n",
    "    writer.writerow(data)"
   ]
  },
  {
   "cell_type": "code",
   "execution_count": null,
   "id": "7b9fdd1a",
   "metadata": {},
   "outputs": [],
   "source": [
    "#Combine all the above code into a single function\n",
    "def check_price():\n",
    "    URL = 'https://www.amazon.com/dp/B0BW1KP2NF?ref_=Oct_DLandingS_D_79b5a9dd_NA&th=1'\n",
    "    headers = {\"user-agent\": \"Mozilla/5.0 (Windows NT 10.0; Win64; x64) AppleWebKit/537.36 (KHTML, like Gecko) Chrome/124.0.0.0 Safari/537.36\", \"Accept-Encoding\":\"gzip, deflate\", \"Accept\":\"text/html,application/xhtml+xml,application/xml;q=0.9,*/*;q=0.8\", \"DNT\":\"1\",\"Connection\":\"close\", \"Upgrade-Insecure-Requests\":\"1\"}\n",
    "    page = requests.get(URL, headers=headers)\n",
    "    soup1 = BeautifulSoup(page.content, \"html.parser\") #lxml, html.parser, html5lib\n",
    "    soup2 = BeautifulSoup(soup1.prettify(), \"html.parser\")\n",
    "    title = soup2.find(id='productTitle').getText()\n",
    "    store = soup2.find(id='bylineInfo').getText()\n",
    "    price = soup2.find(id='corePriceDisplay_desktop_feature_div').getText()\n",
    "    title = title.strip()\n",
    "    store = store.strip()\n",
    "    price = price.strip()[:7]\n",
    "    \n",
    "    import datetime\n",
    "    today = datetime.date.today()\n",
    "    \n",
    "    import csv\n",
    "    headers = ['Title', 'Store', 'Price', 'Date']\n",
    "    data=[title, store, price, today]\n",
    "    \n",
    "    with open('AmazonWebScraperDataset.csv', 'a+', newline='', encoding='UTF8') as f:\n",
    "        writer = csv.writer(f)\n",
    "        writer.writerow(data)\n",
    "        \n",
    "        \n",
    "    #Can help check price drop\n",
    "    #if (price < 200):\n",
    "        #send_mail()"
   ]
  },
  {
   "cell_type": "code",
   "execution_count": null,
   "id": "7209e82d",
   "metadata": {},
   "outputs": [],
   "source": [
    "#Runs check_price after a set period of time inputted in the time.sleep method as it automate and input data into the csv\n",
    "while(True):\n",
    "    check_price()\n",
    "    time.sleep(5) #time.sleep runs in seconds"
   ]
  },
  {
   "cell_type": "code",
   "execution_count": null,
   "id": "cf989d39",
   "metadata": {},
   "outputs": [],
   "source": [
    "import pandas as pd\n",
    "df = pd.read_csv(r'C:\\Users\\Jey\\Projects\\PythonProject\\AmazonWebScraperDataset.csv')\n",
    "print(df)"
   ]
  },
  {
   "cell_type": "code",
   "execution_count": null,
   "id": "d74fcd92",
   "metadata": {},
   "outputs": [],
   "source": [
    "# If want receive email notice when a price hits meets the certain level\n",
    "\n",
    "def send_mail():\n",
    "    server = smtplib.SMTP_SSL('smtp.gmail.com',465) #using gmail server to send out email\n",
    "    server.ehlo()\n",
    "    #server.starttls()\n",
    "    server.ehlo()\n",
    "    server.login('XXXXXXXXXXXX@gmail.com','xxxxxxxxxxxxxx') #email and pw\n",
    "    \n",
    "    subject = \"The Shirt you want is below $200! Now is your chance to buy!\"\n",
    "    body = \"Alex, This is the moment we have been waiting for. Now is your chance to pick up the shirt of your dreams. Don't mess it up! Link here: https://www.amazon.com/Funny-Data-Systems-Business-Analyst/dp/B07FNW9FGJ/ref=sr_1_3?dchild=1&keywords=data+analyst+tshirt&qid=1626655184&sr=8-3\"\n",
    "   \n",
    "    msg = f\"Subject: {subject}\\n\\n{body}\"\n",
    "    \n",
    "    server.sendmail(\n",
    "        'XXXXXXXXXXXX@gmail.com',\n",
    "        msg\n",
    "     \n",
    "    )"
   ]
  },
  {
   "cell_type": "code",
   "execution_count": null,
   "id": "7e03233a",
   "metadata": {},
   "outputs": [],
   "source": []
  }
 ],
 "metadata": {
  "kernelspec": {
   "display_name": "Python 3 (ipykernel)",
   "language": "python",
   "name": "python3"
  },
  "language_info": {
   "codemirror_mode": {
    "name": "ipython",
    "version": 3
   },
   "file_extension": ".py",
   "mimetype": "text/x-python",
   "name": "python",
   "nbconvert_exporter": "python",
   "pygments_lexer": "ipython3",
   "version": "3.7.7"
  }
 },
 "nbformat": 4,
 "nbformat_minor": 5
}
