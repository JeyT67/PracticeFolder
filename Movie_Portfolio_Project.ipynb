{
 "cells": [
  {
   "cell_type": "code",
   "execution_count": null,
   "id": "10ecb18f",
   "metadata": {},
   "outputs": [],
   "source": [
    "#Import Libraries\n",
    "import pandas as pd\n",
    "import seaborn as sns\n",
    "import numpy as np\n",
    "\n",
    "import matplotlib.pyplot as plt\n",
    "import matplotlib\n",
    "plt.style.use('ggplot')\n",
    "from matplotlib.pyplot import figure\n",
    "\n",
    "%matplotlib inline\n",
    "matplotlib.rcParams['figure.figsize'] = (12,8) #Adjustthe configuration of the plots we will create\n",
    "\n",
    "pd.options.mode.chained_assignment = None\n",
    "\n",
    "#Read the data\n",
    "df= pd.read_csv(r'C:\\Users\\Jey\\Documents\\Coursera\\Project\\Youtube Project\\movies.csv')"
   ]
  },
  {
   "cell_type": "code",
   "execution_count": null,
   "id": "f8ed292a",
   "metadata": {},
   "outputs": [],
   "source": [
    "#Reading the data\n",
    "df.head()"
   ]
  },
  {
   "cell_type": "code",
   "execution_count": null,
   "id": "3914ca86",
   "metadata": {},
   "outputs": [],
   "source": [
    "df"
   ]
  },
  {
   "cell_type": "code",
   "execution_count": null,
   "id": "dc95c21b",
   "metadata": {},
   "outputs": [],
   "source": [
    "#Checking for any missing data\n",
    "#Using for loop through the data and see if there are anything missing\n",
    "for col in df.columns:\n",
    "    percent_missing = np.mean(df[col].isnull())\n",
    "    print('{} - {}%'.format(col, round(percent_missing*100)))"
   ]
  },
  {
   "cell_type": "code",
   "execution_count": null,
   "id": "48a15c38",
   "metadata": {},
   "outputs": [],
   "source": [
    "#Checking data types for columns\n",
    "df.dtypes"
   ]
  },
  {
   "cell_type": "code",
   "execution_count": null,
   "id": "e289f397",
   "metadata": {},
   "outputs": [],
   "source": [
    "#Change data type of columns\n",
    "df['budget'] = df['budget'].astype('int64')\n",
    "df['gross'] = df['gross'].astype('int64')"
   ]
  },
  {
   "cell_type": "code",
   "execution_count": null,
   "id": "d8eb925e",
   "metadata": {},
   "outputs": [],
   "source": [
    "df"
   ]
  },
  {
   "cell_type": "code",
   "execution_count": null,
   "id": "142b33bf",
   "metadata": {},
   "outputs": [],
   "source": [
    "#Create correct Year column\n",
    "df['released_year'] = df['released'].str.split(',').str[1].str[:5].astype(str)\n",
    "df"
   ]
  },
  {
   "cell_type": "code",
   "execution_count": null,
   "id": "8df8f3e4",
   "metadata": {},
   "outputs": [],
   "source": [
    "#Sort the 'gross' value based on highest value first, can be viewed with df.head()\n",
    "df = df.sort_values(by=['gross'], inplace=False, ascending=False)"
   ]
  },
  {
   "cell_type": "code",
   "execution_count": null,
   "id": "324f84c4",
   "metadata": {},
   "outputs": [],
   "source": [
    "pd.set_option('display.max_rows',None)"
   ]
  },
  {
   "cell_type": "code",
   "execution_count": null,
   "id": "9c2b6547",
   "metadata": {},
   "outputs": [],
   "source": [
    "#Drop any duplicates\n",
    "#df.drop_duplicates()\n",
    "df['company'].drop_duplicates().sort_values(ascending=False)"
   ]
  },
  {
   "cell_type": "code",
   "execution_count": null,
   "id": "ca2092f6",
   "metadata": {},
   "outputs": [],
   "source": [
    "#Looking into correlations: (Hypothesis assumptions)\n",
    "##Budget will have high correlations\n",
    "##Company will have high correlations"
   ]
  },
  {
   "cell_type": "code",
   "execution_count": null,
   "id": "407df383",
   "metadata": {},
   "outputs": [],
   "source": [
    "#Scatter plot with budget vs gross\n",
    "plt.scatter(x=df['budget'], y=df['gross'])\n",
    "plt.title('Budget vs Gross Earnings')\n",
    "plt.xlabel('Gross Earnings')\n",
    "plt.ylabel('Film Budget')\n",
    "plt.show()"
   ]
  },
  {
   "cell_type": "code",
   "execution_count": null,
   "id": "75571d84",
   "metadata": {},
   "outputs": [],
   "source": [
    "df.head()"
   ]
  },
  {
   "cell_type": "code",
   "execution_count": null,
   "id": "976ee064",
   "metadata": {},
   "outputs": [],
   "source": [
    "#Plot budget vs gross using seaborn\n",
    "sns.regplot(x='budget', y='gross', data=df, scatter_kws={\"color\":\"red\"}, line_kws={'color':'blue'})"
   ]
  },
  {
   "cell_type": "code",
   "execution_count": null,
   "id": "baaa6d1e",
   "metadata": {},
   "outputs": [],
   "source": [
    "#Looking at correlation data for numerical fields\n",
    "df.corr(method='pearson') #pearson, kendall, spearman"
   ]
  },
  {
   "cell_type": "code",
   "execution_count": null,
   "id": "9ef84218",
   "metadata": {},
   "outputs": [],
   "source": [
    "#High correlation between budget and gross is correct (0.75 almost close to 1)"
   ]
  },
  {
   "cell_type": "code",
   "execution_count": null,
   "id": "62dc3c52",
   "metadata": {},
   "outputs": [],
   "source": [
    "correlation_matrix = df.corr(method='pearson')\n",
    "sns.heatmap(correlation_matrix, annot=True)\n",
    "plt.title('Correlation Metric for Numeric Features')\n",
    "plt.xlabel('Movie Features')\n",
    "plt.ylabel('Movie Features')\n",
    "plt.show()"
   ]
  },
  {
   "cell_type": "code",
   "execution_count": null,
   "id": "ea43103b",
   "metadata": {},
   "outputs": [],
   "source": [
    "#Looking at company, its in string. To make it adaptable for seaborn correlation, needs to be numeric\n",
    "df_numerized = df\n",
    "#Easier to make all columns to numeric instead of one by one\n",
    "for col_name in df_numerized.columns:\n",
    "    if(df_numerized[col_name].dtype == 'object'):\n",
    "        df_numerized[col_name] = df_numerized[col_name].astype('category')\n",
    "        #d = dict(enumerate(df_numerized[col_name].cat.categories)) #dict will save the value into a dictionary\n",
    "        df_numerized[col_name] = df_numerized[col_name].cat.codes #cat.codes will randomly give value numeric numbers\n",
    "        #reversed numeric\n",
    "        #df['mycol_reversed'] =df_numerized[col_name].map(d) #will reuse the value in the dictionary\n",
    "    \n",
    "df_numerized"
   ]
  },
  {
   "cell_type": "code",
   "execution_count": null,
   "id": "ff367017",
   "metadata": {},
   "outputs": [],
   "source": [
    "df = df.sort_values(by=['gross'], inplace=False, ascending=False)\n",
    "df.head()"
   ]
  },
  {
   "cell_type": "code",
   "execution_count": null,
   "id": "b52dd600",
   "metadata": {},
   "outputs": [],
   "source": [
    "correlation_matrix = df_numerized.corr(method='pearson')\n",
    "sns.heatmap(correlation_matrix, annot=True)\n",
    "plt.title('Correlation Metric for Numeric Features')\n",
    "plt.xlabel('Movie Features')\n",
    "plt.ylabel('Movie Features')\n",
    "plt.show()"
   ]
  },
  {
   "cell_type": "code",
   "execution_count": null,
   "id": "52445a59",
   "metadata": {},
   "outputs": [],
   "source": [
    "df_numerized.corr()"
   ]
  },
  {
   "cell_type": "code",
   "execution_count": null,
   "id": "3165e914",
   "metadata": {},
   "outputs": [],
   "source": [
    "#Since df_numerized correlation have many value, the fastest best to view is:\n",
    "corr_metric = df_numerized.corr()\n",
    "corr_pairs = corr_metric.unstack()\n",
    "corr_pairs"
   ]
  },
  {
   "cell_type": "code",
   "execution_count": null,
   "id": "e22f8028",
   "metadata": {},
   "outputs": [],
   "source": [
    "#Easiest way to see the 2 correlations\n",
    "sorted_pairs = corr_pairs.sort_values()\n",
    "sorted_pairs"
   ]
  },
  {
   "cell_type": "code",
   "execution_count": null,
   "id": "9f67f5cd",
   "metadata": {},
   "outputs": [],
   "source": [
    "high_corr = sorted_pairs[(sorted_pairs) > 0.5]\n",
    "high_corr"
   ]
  },
  {
   "cell_type": "code",
   "execution_count": null,
   "id": "6387cffc",
   "metadata": {},
   "outputs": [],
   "source": [
    "#Votes and Gross have high correlation as well\n",
    "#Company does not have high correlation, so hypothesis for company is false\n",
    "#Company has low correlation"
   ]
  }
 ],
 "metadata": {
  "kernelspec": {
   "display_name": "Python 3 (ipykernel)",
   "language": "python",
   "name": "python3"
  },
  "language_info": {
   "codemirror_mode": {
    "name": "ipython",
    "version": 3
   },
   "file_extension": ".py",
   "mimetype": "text/x-python",
   "name": "python",
   "nbconvert_exporter": "python",
   "pygments_lexer": "ipython3",
   "version": "3.7.7"
  }
 },
 "nbformat": 4,
 "nbformat_minor": 5
}
